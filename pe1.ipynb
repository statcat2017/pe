{
 "cells": [
  {
   "cell_type": "code",
   "execution_count": 3,
   "metadata": {},
   "outputs": [
    {
     "name": "stdout",
     "output_type": "stream",
     "text": [
      "233168\n"
     ]
    }
   ],
   "source": [
    "#PE1\n",
    "\n",
    "def sum_mult_3_5(limit):\n",
    "    ans = 0\n",
    "    for i in range(1,limit):\n",
    "        if i % 3 == 0:\n",
    "            ans += i\n",
    "        elif i % 5 == 0:\n",
    "            ans += i\n",
    "    return ans\n",
    "\n",
    "print(sum_mult_3_5(1000))\n",
    "        "
   ]
  },
  {
   "cell_type": "code",
   "execution_count": 14,
   "metadata": {},
   "outputs": [
    {
     "name": "stdout",
     "output_type": "stream",
     "text": [
      "4613732\n"
     ]
    }
   ],
   "source": [
    "#PE2\n",
    "\n",
    "def next_fib(x,y):\n",
    "    return x+y\n",
    "\n",
    "def sum_fib(max_fib):\n",
    "    x = 1\n",
    "    y = 2\n",
    "    ans = 2\n",
    "    fib = 0\n",
    "    while fib < max_fib:\n",
    "        fib = next_fib(x,y)\n",
    "        if fib % 2 == 0:\n",
    "            ans += fib\n",
    "        x = y\n",
    "        y = fib\n",
    "    return ans\n",
    "\n",
    "print(sum_fib(4000000))\n",
    "        \n",
    "        "
   ]
  },
  {
   "cell_type": "code",
   "execution_count": 72,
   "metadata": {},
   "outputs": [
    {
     "name": "stdout",
     "output_type": "stream",
     "text": [
      "[71, 839, 1471, 6857]\n"
     ]
    }
   ],
   "source": [
    "#PE3\n",
    "    \n",
    "def list_primefactors(x):\n",
    "    primefactors = []\n",
    "    test = 2\n",
    "    new_x = x\n",
    "    while x > test**2:\n",
    "        if new_x % test == 0:\n",
    "            primefactors.append(test)\n",
    "            new_x /= test\n",
    "        else:\n",
    "            test += 1\n",
    "    \n",
    "    return primefactors\n",
    "            \n",
    "print(list_primefactors(600851475143))"
   ]
  },
  {
   "cell_type": "code",
   "execution_count": 106,
   "metadata": {},
   "outputs": [
    {
     "name": "stdout",
     "output_type": "stream",
     "text": [
      "99000099\n"
     ]
    }
   ],
   "source": [
    "#PE4\n",
    "def flip(x):\n",
    "    return x[::-1]\n",
    "    \n",
    "\n",
    "def test_palin(x):\n",
    "    str_x = str(x)\n",
    "    each = int(len(str_x)/2)\n",
    "    if str_x[:each] == flip(str_x[-each:]):\n",
    "        return True\n",
    "    else:\n",
    "        return False\n",
    "\n",
    "def palin_prod(x,y):\n",
    "    str_x = str(x*y)\n",
    "    if test_palin(str_x) == True:\n",
    "        return True\n",
    "    return False\n",
    "    \n",
    "maxi = 0\n",
    "for i in range(1,10000):\n",
    "    for j in range(1,10000):\n",
    "        if i >= j:\n",
    "            if i*j > maxi:\n",
    "                if palin_prod(i,j) == True:\n",
    "                    maxi = i*j\n",
    "\n",
    "print(maxi)            \n",
    "            \n"
   ]
  },
  {
   "cell_type": "code",
   "execution_count": 188,
   "metadata": {
    "scrolled": true
   },
   "outputs": [
    {
     "name": "stdout",
     "output_type": "stream",
     "text": [
      "[20, 19, 18, 17, 16, 15, 14, 13, 12, 11]\n",
      "232792560\n"
     ]
    }
   ],
   "source": [
    "#PE5\n",
    "def create_list(y):\n",
    "    tests = []\n",
    "    tested = []\n",
    "    for i in range(y,1,-1):\n",
    "        j = i\n",
    "        if i not in tests:\n",
    "            if i not in tested:\n",
    "                tests.append(i)\n",
    "        while j%2 == 0:\n",
    "            tested.append(j/2,)\n",
    "            j /=2  \n",
    "    return tests\n",
    "\n",
    "def div_by_x(testlist,x):               \n",
    "    for i in testlist:\n",
    "        if x % i != 0:\n",
    "            return False\n",
    "    return True\n",
    "\n",
    "testlist = create_list(20)\n",
    "print(testlist)\n",
    "\n",
    "check = False\n",
    "test = 20\n",
    "i = 20\n",
    "i_it = i\n",
    "\n",
    "while check == False:\n",
    "    match = 0\n",
    "    for num in testlist:\n",
    "        if i % num == 0:\n",
    "            match +=1\n",
    "    if match == len(testlist):\n",
    "        print(i)\n",
    "        check = True\n",
    "    i += i_it\n",
    "    \n",
    "            \n",
    "        \n",
    "    "
   ]
  },
  {
   "cell_type": "code",
   "execution_count": 203,
   "metadata": {},
   "outputs": [
    {
     "name": "stdout",
     "output_type": "stream",
     "text": [
      "170\n"
     ]
    }
   ],
   "source": [
    "#PE6\n",
    "\n",
    "def sumsq(x):\n",
    "    squares = 0\n",
    "    for i in range(1,x+1):\n",
    "        squares += i**2\n",
    "    return squares\n",
    "\n",
    "def sqsum(x):\n",
    "    return int((x*(x+1)/2)**2)\n",
    "\n",
    "print(sqsum(5)-sumsq(5))\n",
    "        \n",
    "    "
   ]
  },
  {
   "cell_type": "code",
   "execution_count": null,
   "metadata": {},
   "outputs": [],
   "source": []
  }
 ],
 "metadata": {
  "kernelspec": {
   "display_name": "Python 3",
   "language": "python",
   "name": "python3"
  },
  "language_info": {
   "codemirror_mode": {
    "name": "ipython",
    "version": 3
   },
   "file_extension": ".py",
   "mimetype": "text/x-python",
   "name": "python",
   "nbconvert_exporter": "python",
   "pygments_lexer": "ipython3",
   "version": "3.7.1"
  }
 },
 "nbformat": 4,
 "nbformat_minor": 2
}
